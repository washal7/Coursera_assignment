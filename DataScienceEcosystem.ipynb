{
 "cells": [
  {
   "cell_type": "markdown",
   "id": "ebb56061-cc23-4351-81a3-a0ffd2467ccc",
   "metadata": {},
   "source": [
    "# Data Science Tools and Ecosystem"
   ]
  },
  {
   "cell_type": "markdown",
   "id": "a5b442bc-4fd7-48ce-ad5e-6bf1780d390f",
   "metadata": {},
   "source": [
    "In this notebook, Data Science Tools and Ecosystem are summarized."
   ]
  },
  {
   "cell_type": "markdown",
   "id": "a1bdc0c5-7157-47d8-b12d-cc2cd4794364",
   "metadata": {},
   "source": [
    "**Objectives:**\n",
    "- List popular languages for Data Science\n",
    "- List commonly used libraries for Data Science\n",
    "- Create lists\n",
    "- Create tables"
   ]
  },
  {
   "cell_type": "code",
   "execution_count": null,
   "id": "aed84924-8b3f-449d-8fa0-0bffb9eb9b5a",
   "metadata": {},
   "outputs": [],
   "source": [
    "Some of the popular languages that Data Scientists use are:"
   ]
  },
  {
   "cell_type": "markdown",
   "id": "6c7a00ac-6758-4d73-837d-9a0c9508f324",
   "metadata": {},
   "source": [
    "1. python\n",
    "2. R\n",
    "3. SQL"
   ]
  },
  {
   "cell_type": "code",
   "execution_count": null,
   "id": "909a80c6-7e15-4f6d-b12f-bef3c34d7f54",
   "metadata": {},
   "outputs": [],
   "source": [
    "Some of the commonly used libraries used by Data Scientists include:"
   ]
  },
  {
   "cell_type": "markdown",
   "id": "1a8e5314-5f1d-4b15-9462-74bac0512a91",
   "metadata": {},
   "source": [
    "1. pandas\n",
    "2. numpy\n",
    "3. tabulate\n",
    "4. pprint"
   ]
  },
  {
   "cell_type": "markdown",
   "id": "c99c348d-a684-4e36-80f2-4703391ddf5c",
   "metadata": {},
   "source": [
    "|Data Science Tools|\n",
    "|------------------|\n",
    "|Jupyter Notebooks|\n",
    "|RStudio|\n",
    "|Apache Zeppelin|"
   ]
  },
  {
   "cell_type": "markdown",
   "id": "a09f7436-98a5-4ed8-9750-ef935541e674",
   "metadata": {},
   "source": [
    "### Below are a few examples of evaluating arithmetic expression in Python."
   ]
  },
  {
   "cell_type": "code",
   "execution_count": 4,
   "id": "fa628e32-3499-4aa9-b83b-85501bfc23d5",
   "metadata": {},
   "outputs": [
    {
     "data": {
      "text/plain": [
       "17"
      ]
     },
     "execution_count": 4,
     "metadata": {},
     "output_type": "execute_result"
    }
   ],
   "source": [
    "#This is a simple arithmetic expression to multiply then add integers.\n",
    "(3*4)+5"
   ]
  },
  {
   "cell_type": "code",
   "execution_count": 5,
   "id": "7ca773b5-26bd-4280-9b9b-d61ced779984",
   "metadata": {},
   "outputs": [
    {
     "data": {
      "text/plain": [
       "3.3333333333333335"
      ]
     },
     "execution_count": 5,
     "metadata": {},
     "output_type": "execute_result"
    }
   ],
   "source": [
    "#This will convert 200 minutes to hours by dividing by 60.\n",
    "200/60"
   ]
  },
  {
   "cell_type": "markdown",
   "id": "4d7ebef1-cf2f-4491-8521-90d679791f93",
   "metadata": {},
   "source": [
    "## Author"
   ]
  },
  {
   "cell_type": "markdown",
   "id": "b4ac3efc-16e9-4d2f-8b1d-a832f5b0d03b",
   "metadata": {},
   "source": [
    "Jing"
   ]
  },
  {
   "cell_type": "code",
   "execution_count": null,
   "id": "9507ddaa-ba2f-4365-b450-213c52f2aa64",
   "metadata": {},
   "outputs": [],
   "source": []
  }
 ],
 "metadata": {
  "kernelspec": {
   "display_name": "Python 3 (ipykernel)",
   "language": "python",
   "name": "python3"
  },
  "language_info": {
   "codemirror_mode": {
    "name": "ipython",
    "version": 3
   },
   "file_extension": ".py",
   "mimetype": "text/x-python",
   "name": "python",
   "nbconvert_exporter": "python",
   "pygments_lexer": "ipython3",
   "version": "3.11.7"
  }
 },
 "nbformat": 4,
 "nbformat_minor": 5
}
